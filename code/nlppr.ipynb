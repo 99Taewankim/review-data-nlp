{
 "cells": [
  {
   "cell_type": "code",
   "execution_count": 1,
   "id": "f408f048",
   "metadata": {},
   "outputs": [],
   "source": [
    "import nltk\n",
    "from nltk import word_tokenize\n",
    "from nltk.corpus import stopwords\n",
    "from autocorrect import spell\n",
    "from autocorrect import Speller\n",
    "from nltk.stem.wordnet import WordNetLemmatizer\n",
    "from nltk.wsd import lesk\n",
    "from nltk.tokenize import sent_tokenize"
   ]
  },
  {
   "cell_type": "code",
   "execution_count": 6,
   "id": "f1bb2689",
   "metadata": {},
   "outputs": [],
   "source": [
    "with open(\"text.txt\", \"r\") as f:\n",
    "    example = f.read()\n"
   ]
  },
  {
   "cell_type": "code",
   "execution_count": 7,
   "id": "626bb888",
   "metadata": {},
   "outputs": [
    {
     "data": {
      "text/plain": [
       "'In camputing, the term text pracessing refers to the theory and practice of automating the creation or manipuletion of electronic text. Text usually refers to all the alphanumeric characters specified on the keyboard of the person engaging the practice, but in general text means the abstraction layer immediately above the standard character encoding of the targett text. The term processing refers to automated (or mechanized) pracessing, as opposed to the same manipulation done manually.'"
      ]
     },
     "execution_count": 7,
     "metadata": {},
     "output_type": "execute_result"
    }
   ],
   "source": [
    "#텍스트 코퍼스\n",
    "example"
   ]
  },
  {
   "cell_type": "code",
   "execution_count": 9,
   "id": "abf51a37",
   "metadata": {},
   "outputs": [],
   "source": [
    "#토큰화\n",
    "words=word_tokenize(example)"
   ]
  },
  {
   "cell_type": "code",
   "execution_count": 10,
   "id": "3346e13c",
   "metadata": {},
   "outputs": [
    {
     "name": "stdout",
     "output_type": "stream",
     "text": [
      "['In', 'camputing', ',', 'the', 'term', 'text', 'pracessing', 'refers', 'to', 'the', 'theory', 'and', 'practice', 'of', 'automating', 'the', 'creation', 'or', 'manipuletion', 'of']\n"
     ]
    }
   ],
   "source": [
    "#초기 20개 토큰 출력\n",
    "print(words[:20])"
   ]
  },
  {
   "cell_type": "code",
   "execution_count": 13,
   "id": "5b9da346",
   "metadata": {},
   "outputs": [
    {
     "name": "stdout",
     "output_type": "stream",
     "text": [
      "In computing , the term text processing refers to the theory and practice of automatic the creation or manipulation of electronic text . Text usually refers to all the alphanumeric characters specified on the keyboard of the person engaging the practice , but in general text means the abstraction layer immediately above the standard character encoding of the target text . The term processing refers to automated ( or mechanized ) processing , as opposed to the same manipulation done manually .\n"
     ]
    }
   ],
   "source": [
    "#철자 수정, 수정된 텍스트 코퍼스\n",
    "spell=Speller()\n",
    "sentence_corrected=\" \".join([spell(word) for word in words])\n",
    "print(sentence_corrected)"
   ]
  },
  {
   "cell_type": "code",
   "execution_count": 22,
   "id": "940299c5",
   "metadata": {},
   "outputs": [],
   "source": [
    "sentence=word_tokenize(sentence_corrected)"
   ]
  },
  {
   "cell_type": "code",
   "execution_count": 24,
   "id": "fdfa2ed9",
   "metadata": {},
   "outputs": [
    {
     "name": "stdout",
     "output_type": "stream",
     "text": [
      "['In', 'computing', ',', 'the', 'term', 'text', 'processing', 'refers', 'to', 'the', 'theory', 'and', 'practice', 'of', 'automatic', 'the', 'creation', 'or', 'manipulation', 'of']\n"
     ]
    }
   ],
   "source": [
    "#초기 20개 수정된 토큰(수정된 문장 자체에서 순치작으로 20개 출력)\n",
    "print(sentence[:20])"
   ]
  },
  {
   "cell_type": "code",
   "execution_count": 25,
   "id": "144f543c",
   "metadata": {},
   "outputs": [
    {
     "name": "stdout",
     "output_type": "stream",
     "text": [
      "computing\n",
      "processing\n",
      "automatic\n",
      "manipulation\n",
      "target\n",
      "processing\n"
     ]
    }
   ],
   "source": [
    "#초기 20개 수정된 토큰(수정된 토큰만)\n",
    "for i,v in enumerate(sentence):\n",
    "    if v != words[i]:\n",
    "        print(v)"
   ]
  },
  {
   "cell_type": "code",
   "execution_count": 26,
   "id": "feca42fb",
   "metadata": {},
   "outputs": [
    {
     "name": "stdout",
     "output_type": "stream",
     "text": [
      "[('In', 'IN'), ('computing', 'NN'), (',', ','), ('the', 'DT'), ('term', 'NN'), ('text', 'NN'), ('processing', 'NN'), ('refers', 'NNS'), ('to', 'TO'), ('the', 'DT'), ('theory', 'NN'), ('and', 'CC'), ('practice', 'NN'), ('of', 'IN'), ('automatic', 'JJ'), ('the', 'DT'), ('creation', 'NN'), ('or', 'CC'), ('manipulation', 'NN'), ('of', 'IN'), ('electronic', 'JJ'), ('text', 'NN'), ('.', '.'), ('Text', 'NNP'), ('usually', 'RB'), ('refers', 'VBZ'), ('to', 'TO'), ('all', 'PDT'), ('the', 'DT'), ('alphanumeric', 'JJ'), ('characters', 'NNS'), ('specified', 'VBN'), ('on', 'IN'), ('the', 'DT'), ('keyboard', 'NN'), ('of', 'IN'), ('the', 'DT'), ('person', 'NN'), ('engaging', 'VBG'), ('the', 'DT'), ('practice', 'NN'), (',', ','), ('but', 'CC'), ('in', 'IN'), ('general', 'JJ'), ('text', 'NN'), ('means', 'VBZ'), ('the', 'DT'), ('abstraction', 'NN'), ('layer', 'NN'), ('immediately', 'RB'), ('above', 'IN'), ('the', 'DT'), ('standard', 'JJ'), ('character', 'NN'), ('encoding', 'NN'), ('of', 'IN'), ('the', 'DT'), ('target', 'NN'), ('text', 'NN'), ('.', '.'), ('The', 'DT'), ('term', 'NN'), ('processing', 'VBG'), ('refers', 'NNS'), ('to', 'TO'), ('automated', 'VB'), ('(', '('), ('or', 'CC'), ('mechanized', 'VBN'), (')', ')'), ('processing', 'NN'), (',', ','), ('as', 'IN'), ('opposed', 'VBN'), ('to', 'TO'), ('the', 'DT'), ('same', 'JJ'), ('manipulation', 'NN'), ('done', 'VBN'), ('manually', 'RB'), ('.', '.')]\n"
     ]
    }
   ],
   "source": [
    "#pos 태그 적용\n",
    "print(nltk.pos_tag(sentence))"
   ]
  },
  {
   "cell_type": "code",
   "execution_count": 27,
   "id": "e807a6aa",
   "metadata": {},
   "outputs": [
    {
     "name": "stdout",
     "output_type": "stream",
     "text": [
      "In computing , term text processing refers theory practice automatic creation manipulation electronic text . Text usually refers alphanumeric characters specified keyboard person engaging practice , general text means abstraction layer immediately standard character encoding target text . The term processing refers automated ( mechanized ) processing , opposed manipulation done manually .\n"
     ]
    }
   ],
   "source": [
    "stop_words=stopwords.words('English')\n",
    "words_nostopwords=\" \".join([word for word in sentence if word not in stop_words])\n",
    "print(words_nostopwords)"
   ]
  },
  {
   "cell_type": "code",
   "execution_count": 28,
   "id": "f7c8a99c",
   "metadata": {},
   "outputs": [],
   "source": [
    "nostop_sentence=word_tokenize(words_nostopwords)"
   ]
  },
  {
   "cell_type": "code",
   "execution_count": 29,
   "id": "7d96da79",
   "metadata": {},
   "outputs": [
    {
     "name": "stdout",
     "output_type": "stream",
     "text": [
      "['In', 'computing', ',', 'term', 'text', 'processing', 'refers', 'theory', 'practice', 'automatic', 'creation', 'manipulation', 'electronic', 'text', '.', 'Text', 'usually', 'refers', 'alphanumeric', 'characters']\n"
     ]
    }
   ],
   "source": [
    "#불용어 제거된 초기 20개 토큰\n",
    "print(nostop_sentence[:20])"
   ]
  },
  {
   "cell_type": "code",
   "execution_count": 30,
   "id": "82b35ac4",
   "metadata": {},
   "outputs": [
    {
     "name": "stdout",
     "output_type": "stream",
     "text": [
      "['in', 'comput', ',', 'term', 'text', 'process', 'refer', 'theori', 'practic', 'automat', 'creation', 'manipul', 'electron', 'text', '.', 'text', 'usual', 'refer', 'alphanumer', 'charact', 'specifi', 'keyboard', 'person', 'engag', 'practic', ',', 'gener', 'text', 'mean', 'abstract', 'layer', 'immedi', 'standard', 'charact', 'encod', 'target', 'text', '.', 'the', 'term', 'process', 'refer', 'autom', '(', 'mechan', ')', 'process', ',', 'oppos', 'manipul', 'done', 'manual', '.']\n"
     ]
    }
   ],
   "source": [
    "#어간 추출\n",
    "stemlst=[]\n",
    "stemmer=nltk.stem.PorterStemmer()\n",
    "for i in nostop_sentence:\n",
    "    stemword=stemmer.stem(i)\n",
    "    stemlst.append(stemword)\n",
    "print(stemlst)"
   ]
  },
  {
   "cell_type": "code",
   "execution_count": 31,
   "id": "98dfb8f2",
   "metadata": {},
   "outputs": [
    {
     "name": "stdout",
     "output_type": "stream",
     "text": [
      "['In', 'computing', ',', 'term', 'text', 'processing', 'refers', 'theory', 'practice', 'automatic', 'creation', 'manipulation', 'electronic', 'text', '.', 'Text', 'usually', 'refers', 'alphanumeric', 'character', 'specified', 'keyboard', 'person', 'engaging', 'practice', ',', 'general', 'text', 'mean', 'abstraction', 'layer', 'immediately', 'standard', 'character', 'encoding', 'target', 'text', '.', 'The', 'term', 'processing', 'refers', 'automated', '(', 'mechanized', ')', 'processing', ',', 'opposed', 'manipulation', 'done', 'manually', '.']\n"
     ]
    }
   ],
   "source": [
    "#표제어 추출\n",
    "lemlst=[]\n",
    "lemmatizer = WordNetLemmatizer()\n",
    "for i in nostop_sentence:\n",
    "    lemword=lemmatizer.lemmatize(i)\n",
    "    lemlst.append(lemword)\n",
    "print(lemlst)"
   ]
  },
  {
   "cell_type": "code",
   "execution_count": 35,
   "id": "c1082da0",
   "metadata": {},
   "outputs": [
    {
     "name": "stdout",
     "output_type": "stream",
     "text": [
      "문장수 :  3\n",
      "문장1 :  In computing , term text processing refers theory practice automatic creation manipulation electronic text .\n",
      "문장2 :  Text usually refers alphanumeric characters specified keyboard person engaging practice , general text means abstraction layer immediately standard character encoding target text .\n",
      "문장3 :  The term processing refers automated ( mechanized ) processing , opposed manipulation done manually .\n"
     ]
    }
   ],
   "source": [
    "#문장경계인식\n",
    "sentence_list=sent_tokenize(words_nostopwords)\n",
    "print(\"문장수 : \", len(sentence_list))\n",
    "for i in range(len(sentence_list)):\n",
    "    print(\"문장{} : \".format(i+1), sentence_list[i])"
   ]
  },
  {
   "cell_type": "code",
   "execution_count": null,
   "id": "55aa41ab",
   "metadata": {},
   "outputs": [],
   "source": []
  }
 ],
 "metadata": {
  "kernelspec": {
   "display_name": "Python 3 (ipykernel)",
   "language": "python",
   "name": "python3"
  },
  "language_info": {
   "codemirror_mode": {
    "name": "ipython",
    "version": 3
   },
   "file_extension": ".py",
   "mimetype": "text/x-python",
   "name": "python",
   "nbconvert_exporter": "python",
   "pygments_lexer": "ipython3",
   "version": "3.10.7"
  }
 },
 "nbformat": 4,
 "nbformat_minor": 5
}
